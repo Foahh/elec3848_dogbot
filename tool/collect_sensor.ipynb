{
 "cells": [
  {
   "cell_type": "code",
   "execution_count": null,
   "id": "c2706201-b063-4ad8-9143-a76fa081e814",
   "metadata": {
    "tags": []
   },
   "outputs": [],
   "source": [
    "from serial import Serial\n",
    "import csv\n",
    "import time\n",
    "import datetime\n",
    "import matplotlib.pyplot as plt"
   ]
  },
  {
   "cell_type": "code",
   "execution_count": null,
   "id": "4013f53a-dda8-4846-8acc-9eade3ebe953",
   "metadata": {
    "tags": []
   },
   "outputs": [],
   "source": [
    "arduino_port = \"COM3\"\n",
    "arduino_baudrate = 115200\n",
    "arduino_serial = Serial(arduino_port, arduino_baudrate)\n",
    "data_header = [\"LL\", \"LR\", \"DT\", \"AX\", \"AY\", \"AZ\"]\n",
    "file_path = \"\"\n",
    "\n",
    "LL_values = []\n",
    "LR_values = []\n",
    "\n",
    "plt.ion()\n",
    "fig, ax = plt.subplots()\n",
    "\n",
    "try:\n",
    "    with open(file_path + datetime.datetime.now().strftime(\"%Y-%m-%d_%H-%M-%S\") + \".csv\",mode=\"w\",newline=\"\") as file:\n",
    "        csv_writer = csv.writer(file)\n",
    "        csv_writer.writerow(data_header)\n",
    "        start_time = time.time()\n",
    "\n",
    "        while time.time() - start_time < 120:\n",
    "            data = arduino_serial.readline().decode(\"utf-8\").strip()\n",
    "            if data.count(\",\") == len(data_header) - 1:\n",
    "                try:\n",
    "                    LL, LR, DT, AX, AY, AZ = map(lambda x: float(x[3:]),data.split(\",\"),)\n",
    "                    timestamp = datetime.datetime.now().strftime(\"%Y-%m-%d %H:%M:%S\")\n",
    "                    csv_writer.writerow([timestamp, LL, LR, DT, AX, AY, AZ])\n",
    "                    LL_values.append(LL)\n",
    "                    LR_values.append(LR)\n",
    "                    ax.clear()\n",
    "                    ax.plot(LL_values, label='LL')\n",
    "                    ax.plot(LR_values, label='LR')\n",
    "                    ax.legend(loc='')\n",
    "                    plt.draw()\n",
    "                except ValueError:\n",
    "                    print(f\"Invalid data format: {data}\")\n",
    "            else:\n",
    "                print(f\"Invalid data format: {data}\")\n",
    "            time.sleep(1)\n",
    "except KeyboardInterrupt:\n",
    "    arduino_serial.close()"
   ]
  }
 ],
 "metadata": {
  "kernelspec": {
   "display_name": "arduino",
   "language": "python",
   "name": "python3"
  },
  "language_info": {
   "codemirror_mode": {
    "name": "ipython",
    "version": 3
   },
   "file_extension": ".py",
   "mimetype": "text/x-python",
   "name": "python",
   "nbconvert_exporter": "python",
   "pygments_lexer": "ipython3",
   "version": "3.10.13"
  }
 },
 "nbformat": 4,
 "nbformat_minor": 5
}

{
 "cells": [
  {
   "cell_type": "code",
   "execution_count": 3,
   "id": "c2706201-b063-4ad8-9143-a76fa081e814",
   "metadata": {
    "tags": []
   },
   "outputs": [],
   "source": [
    "import serial\n",
    "import csv\n",
    "import time\n",
    "import datetime\n",
    "from jupyterplot import ProgressPlot"
   ]
  },
  {
   "cell_type": "code",
   "execution_count": 4,
   "id": "4013f53a-dda8-4846-8acc-9eade3ebe953",
   "metadata": {
    "tags": []
   },
   "outputs": [
    {
     "ename": "IndentationError",
     "evalue": "unexpected indent (2480454995.py, line 45)",
     "output_type": "error",
     "traceback": [
      "\u001b[0;36m  Cell \u001b[0;32mIn[4], line 45\u001b[0;36m\u001b[0m\n\u001b[0;31m    time.sleep(0.001)\u001b[0m\n\u001b[0m    ^\u001b[0m\n\u001b[0;31mIndentationError\u001b[0m\u001b[0;31m:\u001b[0m unexpected indent\n"
     ]
    }
   ],
   "source": [
    "arduino_port = \"/dev/ttyUSB1\"\n",
    "arduino_baudrate = 115200\n",
    "arduino_serial = serial.Serial(arduino_port, arduino_baudrate)\n",
    "data_header = [\"LL\", \"LR\", \"DT\", \"AX\", \"AZ\"]\n",
    "file_path = \"\"\n",
    "\n",
    "pp = ProgressPlot(plot_names=[\"Light Sensor\", \"LiDAR Distance\"],\n",
    "                  line_names=[\"L\", \"R\"])\n",
    "\n",
    "def show_data_with_csv():\n",
    "    try:\n",
    "        with open(file_path + datetime.datetime.now().strftime(\"%Y-%m-%d_%H-%M-%S\") + \".csv\",mode=\"w\",newline=\"\") as file:\n",
    "            csv_writer = csv.writer(file)\n",
    "            csv_writer.writerow([\"Time\"]  + data_header)\n",
    "            start_time = time.time()\n",
    "            while time.time() - start_time < 120:\n",
    "                data = arduino_serial.readline().decode(\"utf-8\").strip()\n",
    "                if data.count(\",\") == len(data_header) - 1:\n",
    "                    try:\n",
    "                        LL, LR, DT, AX, AZ = map(lambda x: float(x[3:]),data.split(\",\"),)\n",
    "                        timestamp = datetime.datetime.now().strftime(\"%Y-%m-%d %H:%M:%S\")\n",
    "                        csv_writer.writerow([timestamp, LL, LR, DT, AX, AZ])\n",
    "                        pp.update([[LL, LR],[DT, DT]])\n",
    "                    except ValueError as e:\n",
    "                        print(f\"Invalid data format: {data}; {e}\")\n",
    "                else:\n",
    "                    print(f\"Invalid data count: {data}\")\n",
    "                time.sleep(0.01)\n",
    "            pp.finalize()\n",
    "    except KeyboardInterrupt:\n",
    "        arduino_serial.close()\n",
    "\n",
    "def show_data():\n",
    "    try:\n",
    "        while True:\n",
    "            data = arduino_serial.readline().decode(\"utf-8\").strip()\n",
    "            if data.count(\",\") == len(data_header) - 1:\n",
    "                try:\n",
    "                    LL, LR, DT, AX, AZ = map(lambda x: float(x[3:]),data.split(\",\"),)\n",
    "                    pp.update([[LL, LR],[DT, DT]])\n",
    "                except ValueError as e:\n",
    "                    print(f\"Invalid data format: {data}; {e}\")\n",
    "            else:\n",
    "                print(f\"Invalid data count: {data}\")\n",
    "            time.sleep(0.001)\n",
    "            pp.finalize()\n",
    "    except KeyboardInterrupt:\n",
    "        arduino_serial.close()\n",
    "\n",
    "show_data()"
   ]
  }
 ],
 "metadata": {
  "kernelspec": {
   "display_name": "arduino",
   "language": "python",
   "name": "python3"
  },
  "language_info": {
   "codemirror_mode": {
    "name": "ipython",
    "version": 3
   },
   "file_extension": ".py",
   "mimetype": "text/x-python",
   "name": "python",
   "nbconvert_exporter": "python",
   "pygments_lexer": "ipython3",
   "version": "3.11.2"
  }
 },
 "nbformat": 4,
 "nbformat_minor": 5
}
